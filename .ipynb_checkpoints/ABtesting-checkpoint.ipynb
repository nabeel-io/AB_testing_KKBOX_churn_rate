{
 "cells": [
  {
   "cell_type": "markdown",
   "id": "8f6a1f04-c056-488b-b086-0ea90e4e78df",
   "metadata": {},
   "source": [
    "# **A/B testing for churn rate**"
   ]
  },
  {
   "cell_type": "markdown",
   "id": "7567f20d-b2da-4d55-a694-64c04169fdac",
   "metadata": {},
   "source": [
    "### **About**"
   ]
  },
  {
   "cell_type": "markdown",
   "id": "a9f1bb3e-c289-4309-bfc8-26f67ee91376",
   "metadata": {},
   "source": [
    "*In this project we implement A/B testing techniques using Frequentist approach and Bayesian approach to test the significance\n",
    "of churn rate mong two group of music listeners*"
   ]
  },
  {
   "cell_type": "markdown",
   "id": "f7e62457-5e6e-4e00-bf4e-2e9af2072a77",
   "metadata": {},
   "source": [
    "### **Data**"
   ]
  },
  {
   "cell_type": "markdown",
   "id": "f8eca73d-8620-49a3-935c-9f9e504ccf58",
   "metadata": {},
   "source": [
    "*We are using dataset donated by KKBOX. The company offers subscription based music service. Since the subscription is renewed \n",
    "every month. It is importnt to know if the customer churn after a certain period of time. The data consist of `user_logs` and the \n",
    "customer `churn` rate*"
   ]
  },
  {
   "cell_type": "markdown",
   "id": "e6d07b4b-ef6d-451f-b7e7-305dc47dfc8a",
   "metadata": {},
   "source": [
    "### **Objective**"
   ]
  },
  {
   "cell_type": "markdown",
   "id": "14585e5b-fa04-4f03-a381-7bae9d375aa4",
   "metadata": {},
   "source": [
    "*Our objective is to test the significance of music listeners who spent `more than mean` time and `less than mean` time on playing \n",
    "the music and test if the two groups of the music listeners is siginificantly `different` from each other in there respective\n",
    "`churn rate`* "
   ]
  },
  {
   "cell_type": "markdown",
   "id": "5ac99618-9c2c-419d-889c-c3ae0c28f85f",
   "metadata": {},
   "source": [
    "### **Data Processing**"
   ]
  },
  {
   "cell_type": "markdown",
   "id": "0cc084e2-8dd8-488b-829a-715ae0fca4aa",
   "metadata": {},
   "source": [
    "*From `user_logs` we will sum all the seconds of every unique customer and get the total seconds its spends on playing the \n",
    "music every month*"
   ]
  },
  {
   "cell_type": "markdown",
   "id": "d2290af5-42d4-4716-8bc7-5dccf699eebe",
   "metadata": {},
   "source": [
    "*Then we convert the total_seconds to `hours`*"
   ]
  },
  {
   "cell_type": "markdown",
   "id": "d400e957-7345-4bb6-9314-6921ea814807",
   "metadata": {},
   "source": [
    "*We will join the two datasets (sum_log_userv2 and train_v2) to observe of the users churn away based on there listening time*"
   ]
  },
  {
   "cell_type": "markdown",
   "id": "90ba6043-d767-4861-bbb4-005d5c448bbe",
   "metadata": {},
   "source": [
    "*Caluclating the mean time of all users*"
   ]
  },
  {
   "cell_type": "markdown",
   "id": "9485db25-876b-4acd-a00b-9753cda8a274",
   "metadata": {},
   "source": [
    "*Seprating users based on `more_than_mean` and `less_than_mean` value*"
   ]
  },
  {
   "cell_type": "markdown",
   "id": "9e74cfda-2ee0-459b-bb96-b4f8b60c6485",
   "metadata": {},
   "source": [
    "### **Frequentist Approach** "
   ]
  },
  {
   "cell_type": "markdown",
   "id": "51ea11fa-189a-4d30-98ec-7a45f26f68a1",
   "metadata": {},
   "source": [
    "*In the frequentist approach we establish the significance of data based on given model and verify the result using the probability \n",
    "assosiated with the difference in mean of two groups. In this method first we calulate the sample size for our test*"
   ]
  },
  {
   "cell_type": "markdown",
   "id": "fd02b686-dae7-4361-a21e-cf67481b50ea",
   "metadata": {},
   "source": [
    "### **Sample Size**"
   ]
  },
  {
   "cell_type": "markdown",
   "id": "8263b01d-3c71-451a-9ea0-d5411035da6d",
   "metadata": {},
   "source": [
    "We calculate the sample size using the margin of error concept. We calculated the margin of error using the formulae\n",
    "\n",
    "$$MOE=\\ z\\times \\sqrt\\frac{p(1-p)}{n}$$<br>\n",
    "$z$ =  *for 95% confidence*<br>\n",
    "$MOE$ = *margin of error*<br>\n",
    "$p$ = *observed proportion* (if not given assume to be 0.5)<br>\n",
    "$n$ = *Sample Size*<br>"
   ]
  },
  {
   "cell_type": "markdown",
   "id": "70b9366c-48ba-4e6b-8d0d-3b5b7de348cf",
   "metadata": {},
   "source": [
    "### **Formulate the Hypothesis**"
   ]
  },
  {
   "cell_type": "markdown",
   "id": "56a30e2e-a0fc-44cc-ab27-0b87f6726129",
   "metadata": {},
   "source": [
    "***p1** = proportion of listners who plays less_then_mean*<br>\n",
    "***p2** = proportion of listners who plays more_then_mean*<br>\n",
    "\n",
    "*$H_0$ : the rates of churn for listeners who plays more than mean is not different than the listeners who plays less than the \n",
    "mean_time*<br> \n",
    "*(p1-p2 = 0)*<br>\n",
    "*$H_A$ : the rates of churn for listeners who plays more than mean is different than the listeners who plays less than the \n",
    "mean_time*<br>\n",
    "*(p1-p2 != 0)*"
   ]
  },
  {
   "cell_type": "markdown",
   "id": "3dcf0fdf-04e7-45d4-85d6-fabbe7e5a93f",
   "metadata": {},
   "source": [
    "### **Test Normality assumption**"
   ]
  },
  {
   "cell_type": "markdown",
   "id": "6902b597-ebd3-4c3a-8867-f517ca6d5d34",
   "metadata": {},
   "source": [
    "*Before testing the hypothesis we have to make sure tht distribution of p1-p2 follows normal distribution. In order to test it \n",
    "we to prove two assumptions to be true*\n",
    "\n",
    "1. *Independence within and between the group*\n",
    "2. *Test the success-failure condition*"
   ]
  },
  {
   "cell_type": "markdown",
   "id": "f7eb15cb-405a-46c7-acad-41104a230a01",
   "metadata": {},
   "source": [
    "### **Calculate the test static z**"
   ]
  },
  {
   "cell_type": "markdown",
   "id": "45fb0895-64d1-4cbf-b1b5-1c8a82459c08",
   "metadata": {},
   "source": [
    "### **Calculate two tailed probability**"
   ]
  },
  {
   "cell_type": "markdown",
   "id": "4d61a778-e5b1-4da8-bd52-9e58a1945a65",
   "metadata": {},
   "source": [
    "### **Test the value against $\\alpha$ level of significance**"
   ]
  },
  {
   "cell_type": "markdown",
   "id": "d9fa6187-d78e-4d7f-a48e-5fb99514be76",
   "metadata": {},
   "source": [
    "### **Permutation Test Method**"
   ]
  },
  {
   "cell_type": "markdown",
   "id": "1d274779-a477-4902-a101-8ef19e2955f5",
   "metadata": {},
   "source": [
    "*In permutation approach there is no need to test the assumption of normality because we generate the null distribution using\n",
    "random shuffling of the samples*\n",
    "\n",
    "*Null distribution is generated using shuffling the bag and drawing the samples from group A and group B without replacement and\n",
    "record the test static for each permutation. We repeat the process to get a smooth Null Hypothesis distribution*"
   ]
  },
  {
   "cell_type": "markdown",
   "id": "dea27915-6f24-4add-80f6-814775992ef2",
   "metadata": {},
   "source": [
    "*We test the hypothesis by adding all p values which are greater than or equal to p1-p2, i.e. values that are as or more extreme\n",
    "than the observe value*\n",
    "\n",
    "*Then we compare this p value against the significance threshold*"
   ]
  },
  {
   "cell_type": "code",
   "execution_count": null,
   "id": "534c93f3-a81e-4f8f-ae18-101971df420e",
   "metadata": {},
   "outputs": [],
   "source": [
    "### **Bayesian Approach**"
   ]
  }
 ],
 "metadata": {
  "kernelspec": {
   "display_name": "Python 3 (ipykernel)",
   "language": "python",
   "name": "python3"
  },
  "language_info": {
   "codemirror_mode": {
    "name": "ipython",
    "version": 3
   },
   "file_extension": ".py",
   "mimetype": "text/x-python",
   "name": "python",
   "nbconvert_exporter": "python",
   "pygments_lexer": "ipython3",
   "version": "3.9.11"
  }
 },
 "nbformat": 4,
 "nbformat_minor": 5
}
