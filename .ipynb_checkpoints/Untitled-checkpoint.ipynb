{
 "cells": [
  {
   "cell_type": "code",
   "execution_count": 3,
   "id": "b02b3fa8-b1ec-42e5-87ea-6b52e3882f43",
   "metadata": {},
   "outputs": [],
   "source": [
    "import pandas as pd\n",
    "import numpy as np\n",
    "import matplotlib.pyplot as plt\n",
    "import seaborn as sns"
   ]
  },
  {
   "cell_type": "code",
   "execution_count": 53,
   "id": "8ba71a79-3d10-42de-8a93-ebd66b6cd5db",
   "metadata": {},
   "outputs": [],
   "source": [
    "members = pd.read_csv(\"data/members_v3.csv\")"
   ]
  },
  {
   "cell_type": "code",
   "execution_count": 28,
   "id": "baf8c7b5-1e5d-4814-92f1-7a266cff7632",
   "metadata": {},
   "outputs": [],
   "source": [
    "sample = members.dropna(subset=[\"gender\"]).sample(2000000)[\"msno\"]"
   ]
  },
  {
   "cell_type": "markdown",
   "id": "c1c0eed7-0de7-4640-b63c-f684f3636a88",
   "metadata": {
    "tags": []
   },
   "source": [
    "### margin of error\n",
    "$$ MarginError = z\\times \\sqrt\\frac{p(1-p)}{n}$$\n",
    "\n",
    "$z$ is score for confidence <br>\n",
    "$p$ is proportion<br>\n",
    "$n$ is sample size<br>"
   ]
  },
  {
   "cell_type": "code",
   "execution_count": 24,
   "id": "8d8a2947-bd41-43ec-8b3d-e5a076c38047",
   "metadata": {},
   "outputs": [],
   "source": [
    "def sample_size(z, p, error):\n",
    "    n = (z**2) * ((p*(1-p))/(error**2))\n",
    "    return np.ceil(n)"
   ]
  },
  {
   "cell_type": "code",
   "execution_count": 25,
   "id": "a59d9f76-ba17-4c11-b40c-065ee2c4959c",
   "metadata": {},
   "outputs": [
    {
     "data": {
      "text/plain": [
       "38416.0"
      ]
     },
     "execution_count": 25,
     "metadata": {},
     "output_type": "execute_result"
    }
   ],
   "source": [
    "# for margen of error = 0.001\n",
    "sample_size(1.96, 0.5, 0.005)"
   ]
  },
  {
   "cell_type": "code",
   "execution_count": 26,
   "id": "18e09dac-13bd-480c-9683-9b19a105a242",
   "metadata": {},
   "outputs": [],
   "source": [
    "# we will take 2 million samples"
   ]
  },
  {
   "cell_type": "code",
   "execution_count": 4,
   "id": "c2a55f38-9608-4862-a809-5266d152e244",
   "metadata": {},
   "outputs": [],
   "source": [
    "churn = pd.read_csv(\"train_v2.csv\")"
   ]
  },
  {
   "cell_type": "code",
   "execution_count": 5,
   "id": "a5745e25-4b7d-4f6f-83d6-a19a4b74a84b",
   "metadata": {},
   "outputs": [],
   "source": [
    "logs = pd.read_csv(\"user_logs_v2.csv\", usecols=[\"msno\", \"total_secs\"])"
   ]
  },
  {
   "cell_type": "code",
   "execution_count": 6,
   "id": "7fbda901-1831-4156-8082-9cebc774a088",
   "metadata": {},
   "outputs": [
    {
     "data": {
      "text/html": [
       "<div>\n",
       "<style scoped>\n",
       "    .dataframe tbody tr th:only-of-type {\n",
       "        vertical-align: middle;\n",
       "    }\n",
       "\n",
       "    .dataframe tbody tr th {\n",
       "        vertical-align: top;\n",
       "    }\n",
       "\n",
       "    .dataframe thead th {\n",
       "        text-align: right;\n",
       "    }\n",
       "</style>\n",
       "<table border=\"1\" class=\"dataframe\">\n",
       "  <thead>\n",
       "    <tr style=\"text-align: right;\">\n",
       "      <th></th>\n",
       "      <th>msno</th>\n",
       "      <th>is_churn</th>\n",
       "    </tr>\n",
       "  </thead>\n",
       "  <tbody>\n",
       "    <tr>\n",
       "      <th>0</th>\n",
       "      <td>ugx0CjOMzazClkFzU2xasmDZaoIqOUAZPsH1q0teWCg=</td>\n",
       "      <td>1</td>\n",
       "    </tr>\n",
       "    <tr>\n",
       "      <th>1</th>\n",
       "      <td>f/NmvEzHfhINFEYZTR05prUdr+E+3+oewvweYz9cCQE=</td>\n",
       "      <td>1</td>\n",
       "    </tr>\n",
       "    <tr>\n",
       "      <th>2</th>\n",
       "      <td>zLo9f73nGGT1p21ltZC3ChiRnAVvgibMyazbCxvWPcg=</td>\n",
       "      <td>1</td>\n",
       "    </tr>\n",
       "    <tr>\n",
       "      <th>3</th>\n",
       "      <td>8iF/+8HY8lJKFrTc7iR9ZYGCG2Ecrogbc2Vy5YhsfhQ=</td>\n",
       "      <td>1</td>\n",
       "    </tr>\n",
       "    <tr>\n",
       "      <th>4</th>\n",
       "      <td>K6fja4+jmoZ5xG6BypqX80Uw/XKpMgrEMdG2edFOxnA=</td>\n",
       "      <td>1</td>\n",
       "    </tr>\n",
       "    <tr>\n",
       "      <th>...</th>\n",
       "      <td>...</td>\n",
       "      <td>...</td>\n",
       "    </tr>\n",
       "    <tr>\n",
       "      <th>970955</th>\n",
       "      <td>OHnZbu+EVaP+vN7Z+OfT5OMcp90MWFZonmM0o3pb8FY=</td>\n",
       "      <td>0</td>\n",
       "    </tr>\n",
       "    <tr>\n",
       "      <th>970956</th>\n",
       "      <td>S92bDK//uI6hk3u1vuApro0qJBQOToBozZ7lL1yTC+w=</td>\n",
       "      <td>0</td>\n",
       "    </tr>\n",
       "    <tr>\n",
       "      <th>970957</th>\n",
       "      <td>eUa3xo16vpAjr43Cjlb6Kjf1NTILYyJIkBayJQdXWnw=</td>\n",
       "      <td>0</td>\n",
       "    </tr>\n",
       "    <tr>\n",
       "      <th>970958</th>\n",
       "      <td>iZE41tbAQ65rJq60olkJT4BJzuUAYgQdfbEemXe/TTk=</td>\n",
       "      <td>0</td>\n",
       "    </tr>\n",
       "    <tr>\n",
       "      <th>970959</th>\n",
       "      <td>oECkzJik4wKsbOEVY6UACLbmgM8qymFdb5cJaHrodY8=</td>\n",
       "      <td>0</td>\n",
       "    </tr>\n",
       "  </tbody>\n",
       "</table>\n",
       "<p>970960 rows × 2 columns</p>\n",
       "</div>"
      ],
      "text/plain": [
       "                                                msno  is_churn\n",
       "0       ugx0CjOMzazClkFzU2xasmDZaoIqOUAZPsH1q0teWCg=         1\n",
       "1       f/NmvEzHfhINFEYZTR05prUdr+E+3+oewvweYz9cCQE=         1\n",
       "2       zLo9f73nGGT1p21ltZC3ChiRnAVvgibMyazbCxvWPcg=         1\n",
       "3       8iF/+8HY8lJKFrTc7iR9ZYGCG2Ecrogbc2Vy5YhsfhQ=         1\n",
       "4       K6fja4+jmoZ5xG6BypqX80Uw/XKpMgrEMdG2edFOxnA=         1\n",
       "...                                              ...       ...\n",
       "970955  OHnZbu+EVaP+vN7Z+OfT5OMcp90MWFZonmM0o3pb8FY=         0\n",
       "970956  S92bDK//uI6hk3u1vuApro0qJBQOToBozZ7lL1yTC+w=         0\n",
       "970957  eUa3xo16vpAjr43Cjlb6Kjf1NTILYyJIkBayJQdXWnw=         0\n",
       "970958  iZE41tbAQ65rJq60olkJT4BJzuUAYgQdfbEemXe/TTk=         0\n",
       "970959  oECkzJik4wKsbOEVY6UACLbmgM8qymFdb5cJaHrodY8=         0\n",
       "\n",
       "[970960 rows x 2 columns]"
      ]
     },
     "execution_count": 6,
     "metadata": {},
     "output_type": "execute_result"
    }
   ],
   "source": []
  },
  {
   "cell_type": "code",
   "execution_count": null,
   "id": "10635cf4-4f5c-46c9-b6ac-9bbd2179213a",
   "metadata": {},
   "outputs": [],
   "source": []
  },
  {
   "cell_type": "code",
   "execution_count": 6,
   "id": "df8512d3-62af-427a-9525-e1e01d7d5e7e",
   "metadata": {},
   "outputs": [],
   "source": [
    "logs = logs.groupby(\"msno\").sum()"
   ]
  },
  {
   "cell_type": "code",
   "execution_count": 7,
   "id": "7e9a15f1-8e72-40c4-b7f9-36dbf5fe99d1",
   "metadata": {},
   "outputs": [],
   "source": [
    "df = logs.merge(churn, how=\"inner\", on=\"msno\")"
   ]
  },
  {
   "cell_type": "code",
   "execution_count": 8,
   "id": "cf153787-cb07-41ac-81fb-845a7731b770",
   "metadata": {},
   "outputs": [],
   "source": [
    "del churn, logs"
   ]
  },
  {
   "cell_type": "code",
   "execution_count": 9,
   "id": "58f57e4e-ad4b-4490-9aa6-f2688861e454",
   "metadata": {},
   "outputs": [],
   "source": [
    "df[\"total_secs\"] = df[\"total_secs\"]/(60*60)"
   ]
  },
  {
   "cell_type": "code",
   "execution_count": 10,
   "id": "781299b2-d9ba-404b-96e3-dbd4400f93ed",
   "metadata": {},
   "outputs": [],
   "source": [
    "mean_time = df[\"total_secs\"].mean()"
   ]
  },
  {
   "cell_type": "code",
   "execution_count": 11,
   "id": "b0e30a38-53d0-4949-b075-eb767002c592",
   "metadata": {},
   "outputs": [],
   "source": [
    "df[\"mean_time\"] = df[\"total_secs\"] > mean_time"
   ]
  },
  {
   "cell_type": "code",
   "execution_count": 10,
   "id": "74a44ead-8418-4fe7-8aff-d2b02f64e401",
   "metadata": {},
   "outputs": [],
   "source": [
    "more_than_mean = df[df[\"mean_time\"]==True].loc[:,\"is_churn\"]"
   ]
  },
  {
   "cell_type": "code",
   "execution_count": 11,
   "id": "394c5884-bfe5-4302-8d3f-ccb0cc5cdaea",
   "metadata": {},
   "outputs": [],
   "source": [
    "less_than_mean = df[df[\"mean_time\"]==False].loc[:,\"is_churn\"]"
   ]
  },
  {
   "cell_type": "code",
   "execution_count": 12,
   "id": "208b1297-3444-4017-8e58-06a7077865b0",
   "metadata": {},
   "outputs": [
    {
     "data": {
      "text/plain": [
       "0    0.918604\n",
       "1    0.081396\n",
       "Name: is_churn, dtype: float64"
      ]
     },
     "execution_count": 12,
     "metadata": {},
     "output_type": "execute_result"
    }
   ],
   "source": [
    "more_than_mean.value_counts()/len(more_than_mean)"
   ]
  },
  {
   "cell_type": "code",
   "execution_count": 16,
   "id": "48d17cff-d7dd-4691-adf5-00fa3d94ee7e",
   "metadata": {},
   "outputs": [],
   "source": [
    "pop = []\n",
    "p1 = []\n",
    "for i in range(1,2000):\n",
    "    postives = float(more_than_mean.sample(i*50).sum())\n",
    "    p1.append(postives/(i*50))\n",
    "    pop.append(i*50)"
   ]
  },
  {
   "cell_type": "code",
   "execution_count": 17,
   "id": "0cdaff8c-a4f8-4c19-95a3-f72d35aa9b50",
   "metadata": {},
   "outputs": [],
   "source": [
    "p2 = []\n",
    "for i in range(1,2000):\n",
    "    postives = float(less_than_mean.sample(i*50).sum())\n",
    "    p2.append(postives/(i*50))"
   ]
  },
  {
   "cell_type": "code",
   "execution_count": 18,
   "id": "dfc71cf9-2eb4-4584-9872-3eae99b811c1",
   "metadata": {},
   "outputs": [
    {
     "data": {
      "text/plain": [
       "(0.06, 0.12)"
      ]
     },
     "execution_count": 18,
     "metadata": {},
     "output_type": "execute_result"
    },
    {
     "data": {
      "image/png": "[encoded data removed]",
      "text/plain": [
       "<Figure size 720x480 with 1 Axes>"
      ]
     },
     "metadata": {
      "needs_background": "light"
     },
     "output_type": "display_data"
    }
   ],
   "source": [
    "plt.figure(dpi=120)\n",
    "plt.scatter(x=pop, y=p1, s=0.5, color=\"red\")\n",
    "plt.scatter(x=pop, y=p2, s=0.5, color=\"green\")\n",
    "plt.ylim(0.06, 0.12)"
   ]
  },
  {
   "cell_type": "code",
   "execution_count": 22,
   "id": "6f0de3e7-a3ed-411a-b7e2-c31c69c95a1f",
   "metadata": {},
   "outputs": [],
   "source": [
    "# proportions\n",
    "def prop(freq):\n",
    "    churn = freq.sum()\n",
    "    total = len(freq)\n",
    "    return churn/total"
   ]
  },
  {
   "cell_type": "code",
   "execution_count": 28,
   "id": "dc10ce87-d35d-4d05-9ac6-10d29e1d60fb",
   "metadata": {},
   "outputs": [],
   "source": [
    "p1 = prop(less_than_mean)\n",
    "p2 = prop(more_than_mean)"
   ]
  },
  {
   "cell_type": "code",
   "execution_count": 29,
   "id": "a3180b54-c417-4b43-94e0-db32962ff29a",
   "metadata": {},
   "outputs": [
    {
     "data": {
      "text/plain": [
       "0.012200876000773506"
      ]
     },
     "execution_count": 29,
     "metadata": {},
     "output_type": "execute_result"
    }
   ],
   "source": [
    "p1 - p2"
   ]
  },
  {
   "cell_type": "code",
   "execution_count": 37,
   "id": "4cde307e-5162-4fc6-b80c-09de48c3c346",
   "metadata": {},
   "outputs": [
    {
     "data": {
      "text/plain": [
       "0.08964271467402468"
      ]
     },
     "execution_count": 37,
     "metadata": {},
     "output_type": "execute_result"
    }
   ],
   "source": [
    "(less_than_mean.sum() + more_than_mean.sum())/(len(less_than_mean) + len(more_than_mean))"
   ]
  },
  {
   "cell_type": "code",
   "execution_count": 32,
   "id": "b92bcfbf-ab80-4894-b033-248c316337ee",
   "metadata": {},
   "outputs": [
    {
     "data": {
      "text/plain": [
       "754551"
      ]
     },
     "execution_count": 32,
     "metadata": {},
     "output_type": "execute_result"
    }
   ],
   "source": [
    "len(less_than_mean) + len(more_than_mean)"
   ]
  },
  {
   "cell_type": "code",
   "execution_count": 33,
   "id": "bb126eba-c341-4a40-b709-13c748d9d9b4",
   "metadata": {},
   "outputs": [
    {
     "data": {
      "text/plain": [
       "0.08964271467402468"
      ]
     },
     "execution_count": 33,
     "metadata": {},
     "output_type": "execute_result"
    }
   ],
   "source": [
    "67640/754551"
   ]
  },
  {
   "cell_type": "code",
   "execution_count": 38,
   "id": "93d5760b-950a-4030-b0ea-6093c5a911cc",
   "metadata": {},
   "outputs": [],
   "source": [
    "def pooled_prop(s1, s2):\n",
    "    pool =  (s1.sum() + s2.sum())/(len(s1) + len(s2))\n",
    "    return pool"
   ]
  },
  {
   "cell_type": "code",
   "execution_count": 39,
   "id": "6ec9362d-2e33-400d-912f-4ea48110d08c",
   "metadata": {},
   "outputs": [
    {
     "data": {
      "text/plain": [
       "0.08964271467402468"
      ]
     },
     "execution_count": 39,
     "metadata": {},
     "output_type": "execute_result"
    }
   ],
   "source": [
    "pooled_prop(less_than_mean, more_than_mean)"
   ]
  },
  {
   "cell_type": "code",
   "execution_count": 43,
   "id": "5e0304cf-b9c6-4276-8294-347ce8480868",
   "metadata": {},
   "outputs": [
    {
     "data": {
      "text/plain": [
       "array([ True,  True,  True,  True])"
      ]
     },
     "execution_count": 43,
     "metadata": {},
     "output_type": "execute_result"
    }
   ],
   "source": [
    "np.array([234, 789, 10, 12]) >= 10"
   ]
  },
  {
   "cell_type": "code",
   "execution_count": 63,
   "id": "75b5423f-27bc-4b85-adef-bf9cf506ec4a",
   "metadata": {},
   "outputs": [],
   "source": [
    "def sfcondition(p, s1, s2):\n",
    "    a = []\n",
    "    a.append(p * len(s1))\n",
    "    a.append(p * len(s2))\n",
    "    a.append((1-p) * len(s1))\n",
    "    a.append((1-p) * len(s1))\n",
    "    a = np.array(a) > 10 \n",
    "    return np.all(a)"
   ]
  },
  {
   "cell_type": "code",
   "execution_count": 64,
   "id": "c11862f6-d32e-4296-b646-54d629d5ee27",
   "metadata": {},
   "outputs": [
    {
     "data": {
      "text/plain": [
       "True"
      ]
     },
     "execution_count": 64,
     "metadata": {},
     "output_type": "execute_result"
    }
   ],
   "source": [
    "sfcondition(0.0896, less_than_mean, more_than_mean)"
   ]
  },
  {
   "cell_type": "code",
   "execution_count": 66,
   "id": "90695078-c360-4b9b-b1cf-43e04a26f398",
   "metadata": {},
   "outputs": [
    {
     "data": {
      "text/plain": [
       "False"
      ]
     },
     "execution_count": 66,
     "metadata": {},
     "output_type": "execute_result"
    }
   ],
   "source": [
    "np.all([True, False, True])"
   ]
  },
  {
   "cell_type": "code",
   "execution_count": 67,
   "id": "28025653-7a0f-4f75-916e-8b7487110246",
   "metadata": {},
   "outputs": [],
   "source": [
    "def se_pooled(p, s1, s2):\n",
    "    x1 = (p*(1-p))/(len(s1))\n",
    "    x2 = (p*(1-p))/(len(s2))\n",
    "    se = np.sqrt(x1 + x2)\n",
    "    return se"
   ]
  },
  {
   "cell_type": "code",
   "execution_count": 68,
   "id": "8be80fc0-11e3-4a4a-94f1-2206d73f2950",
   "metadata": {},
   "outputs": [
    {
     "data": {
      "text/plain": [
       "0.0007025017207271781"
      ]
     },
     "execution_count": 68,
     "metadata": {},
     "output_type": "execute_result"
    }
   ],
   "source": [
    "se_pooled(0.0896, less_than_mean, more_than_mean)"
   ]
  },
  {
   "cell_type": "code",
   "execution_count": 71,
   "id": "04cf34f3-c5da-4e15-aad4-912826f506a6",
   "metadata": {},
   "outputs": [
    {
     "data": {
      "text/plain": [
       "244545"
      ]
     },
     "execution_count": 71,
     "metadata": {},
     "output_type": "execute_result"
    }
   ],
   "source": [
    "len(more_than_mean)"
   ]
  },
  {
   "cell_type": "code",
   "execution_count": 72,
   "id": "762177f7-22fa-472e-b372-59490353457e",
   "metadata": {},
   "outputs": [
    {
     "data": {
      "text/plain": [
       "510006"
      ]
     },
     "execution_count": 72,
     "metadata": {},
     "output_type": "execute_result"
    }
   ],
   "source": [
    "len(less_than_mean)"
   ]
  },
  {
   "cell_type": "code",
   "execution_count": 73,
   "id": "ca3a7337-e624-46dc-b095-db9983d2aa65",
   "metadata": {},
   "outputs": [
    {
     "data": {
      "text/plain": [
       "0.08157183999999999"
      ]
     },
     "execution_count": 73,
     "metadata": {},
     "output_type": "execute_result"
    }
   ],
   "source": [
    "(0.0896 * (1-0.0896))"
   ]
  },
  {
   "cell_type": "code",
   "execution_count": 76,
   "id": "bdddd98f-493a-40ce-b5da-801d227b4d3d",
   "metadata": {},
   "outputs": [
    {
     "data": {
      "text/plain": [
       "17.36775247773636"
      ]
     },
     "execution_count": 76,
     "metadata": {},
     "output_type": "execute_result"
    }
   ],
   "source": [
    "0.012200876000773506/0.0007025017207271781"
   ]
  },
  {
   "cell_type": "code",
   "execution_count": 77,
   "id": "547d8c90-eef4-4842-adda-92cead7bdc7a",
   "metadata": {},
   "outputs": [],
   "source": [
    "from scipy import stats"
   ]
  },
  {
   "cell_type": "code",
   "execution_count": 79,
   "id": "3f5a43f1-0bc6-4adc-95d5-9a4977d77bc6",
   "metadata": {},
   "outputs": [
    {
     "data": {
      "text/plain": [
       "True"
      ]
     },
     "execution_count": 79,
     "metadata": {},
     "output_type": "execute_result"
    }
   ],
   "source": [
    "stats.norm.sf(17.3677524) < 0.05"
   ]
  },
  {
   "cell_type": "code",
   "execution_count": 80,
   "id": "1c2e5941-fc76-4274-8013-80f32e8dd815",
   "metadata": {},
   "outputs": [],
   "source": [
    "# Permutation method"
   ]
  },
  {
   "cell_type": "code",
   "execution_count": 38,
   "id": "b6cca5ad-f3a4-4c0d-9437-44c456faceec",
   "metadata": {},
   "outputs": [],
   "source": [
    "p1p2 =  []\n",
    "n_perm = 100000\n",
    "for i in range(1000):\n",
    "    x = df[\"is_churn\"][:200000].sample(frac=1)\n",
    "    a = x[:100000].sum()\n",
    "    b = x[100000:].sum()\n",
    "    p1 = a/100000\n",
    "    p2 = b/100000\n",
    "    diff = p1 - p2\n",
    "    p1p2.append(diff)"
   ]
  },
  {
   "cell_type": "code",
   "execution_count": 43,
   "id": "5138f036-8e87-4e2e-9089-f2881d641dac",
   "metadata": {},
   "outputs": [
    {
     "data": {
      "image/png": "[encoded data removed]",
      "text/plain": [
       "<Figure size 1000x400 with 1 Axes>"
      ]
     },
     "metadata": {
      "needs_background": "light"
     },
     "output_type": "display_data"
    }
   ],
   "source": [
    "plt.figure(figsize=(10, 4), dpi=100)\n",
    "sns.kdeplot(data=p1p2, color=\"violet\", fill=True)\n",
    "plt.axvline(0.0122, 200, color=\"black\")\n",
    "plt.axvline(-0.0122, 200, color=\"black\");"
   ]
  },
  {
   "cell_type": "code",
   "execution_count": 34,
   "id": "53f54b80-2c04-48bf-8351-24790631ed6c",
   "metadata": {},
   "outputs": [
    {
     "data": {
      "text/plain": [
       "0.004059999999999994"
      ]
     },
     "execution_count": 34,
     "metadata": {},
     "output_type": "execute_result"
    }
   ],
   "source": [
    "max(p1p2)"
   ]
  },
  {
   "cell_type": "code",
   "execution_count": 22,
   "id": "4402c1b3-dfd5-4bb5-990f-a7b46460ff73",
   "metadata": {},
   "outputs": [
    {
     "data": {
      "text/plain": [
       "0.0009200000000000041"
      ]
     },
     "execution_count": 22,
     "metadata": {},
     "output_type": "execute_result"
    }
   ],
   "source": [
    "diff"
   ]
  },
  {
   "cell_type": "code",
   "execution_count": 13,
   "id": "c5acd5c2-bbdb-4848-9d1b-364daef4d201",
   "metadata": {},
   "outputs": [],
   "source": [
    "# bayesian ab testing"
   ]
  },
  {
   "cell_type": "code",
   "execution_count": 12,
   "id": "ec9c6b19-3d88-4d30-ab9a-cdadb446da89",
   "metadata": {},
   "outputs": [],
   "source": [
    "more_than_mean = df[df[\"mean_time\"] == True].sample(100000)"
   ]
  },
  {
   "cell_type": "code",
   "execution_count": 13,
   "id": "4a7629ae-32d0-4889-bc7d-0060a5bdbd7b",
   "metadata": {},
   "outputs": [],
   "source": [
    "less_than_mean = df[df[\"mean_time\"] == False].sample(100000)"
   ]
  },
  {
   "cell_type": "code",
   "execution_count": 14,
   "id": "08b28422-0fcc-4cd2-bdb6-7ec8b12e2e36",
   "metadata": {},
   "outputs": [],
   "source": [
    "prior = df[~((df[\"msno\"].isin(more_than_mean)) | (df[\"msno\"].isin(less_than_mean)))]"
   ]
  },
  {
   "cell_type": "code",
   "execution_count": 15,
   "id": "bacd83c2-df9e-41d2-94f2-27ef212ead4e",
   "metadata": {},
   "outputs": [],
   "source": [
    "del df"
   ]
  },
  {
   "cell_type": "code",
   "execution_count": 16,
   "id": "ccfdf9f8-9786-4366-bb0a-a4607064a709",
   "metadata": {},
   "outputs": [],
   "source": [
    "prior_more = []\n",
    "for i in range(1000):\n",
    "    mean = prior[prior[\"mean_time\"] == True][\"is_churn\"].sample(10000).mean()\n",
    "    prior_more.append(mean)"
   ]
  },
  {
   "cell_type": "code",
   "execution_count": 17,
   "id": "42436044-0756-4aee-92f6-77521201802f",
   "metadata": {},
   "outputs": [],
   "source": [
    "prior_less = []\n",
    "for i in range(1000):\n",
    "    mean = prior[prior[\"mean_time\"] == False][\"is_churn\"].sample(10000).mean()\n",
    "    prior_less.append(mean)"
   ]
  },
  {
   "cell_type": "code",
   "execution_count": 18,
   "id": "7abedd26-de2f-4ffc-9d75-23b8b25dc120",
   "metadata": {},
   "outputs": [
    {
     "data": {
      "text/plain": [
       "0.08130369999999999"
      ]
     },
     "execution_count": 18,
     "metadata": {},
     "output_type": "execute_result"
    }
   ],
   "source": [
    "np.mean(prior_more)"
   ]
  },
  {
   "cell_type": "code",
   "execution_count": 19,
   "id": "96130d31-6ca6-4659-b6c3-8bcc55f19ed4",
   "metadata": {},
   "outputs": [
    {
     "data": {
      "text/plain": [
       "0.093585"
      ]
     },
     "execution_count": 19,
     "metadata": {},
     "output_type": "execute_result"
    }
   ],
   "source": [
    "np.mean(prior_less)"
   ]
  },
  {
   "cell_type": "code",
   "execution_count": 20,
   "id": "a8eb47e2-627d-428f-9c4f-a3dd67f91fde",
   "metadata": {},
   "outputs": [
    {
     "data": {
      "image/png": "[encoded data removed]",
      "text/plain": [
       "<Figure size 600x250 with 1 Axes>"
      ]
     },
     "metadata": {
      "needs_background": "light"
     },
     "output_type": "display_data"
    }
   ],
   "source": [
    "plt.figure(figsize=(6, 2.5), dpi=100)\n",
    "sns.kdeplot(data=prior_more, color=\"blue\", fill=True, label=\"more_than_mean\")\n",
    "sns.kdeplot(data=prior_less, color=\"red\", fill=True, label=\"less_than_mean\");"
   ]
  },
  {
   "cell_type": "code",
   "execution_count": 21,
   "id": "ab48adf5-09fa-433f-9bb6-502abbb219ee",
   "metadata": {},
   "outputs": [],
   "source": [
    "# fit the beta distribution \n",
    "from scipy import stats\n",
    "beta_more = stats.beta.fit(prior_more, floc=0, fscale=1)"
   ]
  },
  {
   "cell_type": "code",
   "execution_count": 22,
   "id": "43de3d21-1f50-491c-9d75-d6f8123d8ced",
   "metadata": {},
   "outputs": [],
   "source": [
    "beta_more_alpha = beta_more[0]\n",
    "beta_more_beta = beta_more[1]"
   ]
  },
  {
   "cell_type": "code",
   "execution_count": 23,
   "id": "07cfc76d-f0f4-4cad-b7e9-d87045e8e2de",
   "metadata": {},
   "outputs": [],
   "source": [
    "beta_less = stats.beta.fit(prior_less, floc=0, fscale=1)\n",
    "beta_less_alpha = beta_less[0]\n",
    "beta_less_beta = beta_more[1]"
   ]
  },
  {
   "cell_type": "code",
   "execution_count": 26,
   "id": "d17cf2e4-45ea-4c54-bc8c-21da21d2a0e9",
   "metadata": {},
   "outputs": [],
   "source": [
    "prior_distribution_more = stats.beta(beta_more_alpha, beta_more_beta).rvs(1000)"
   ]
  },
  {
   "cell_type": "code",
   "execution_count": 28,
   "id": "b19fb80d-b96e-4f2f-9792-3d97f42d5015",
   "metadata": {},
   "outputs": [],
   "source": [
    "prior_distribution_less = stats.beta(beta_less_alpha, beta_less_beta).rvs(1000)"
   ]
  },
  {
   "cell_type": "code",
   "execution_count": 90,
   "id": "558193f3-e1db-49c7-9fc5-383003c3f269",
   "metadata": {},
   "outputs": [
    {
     "data": {
      "image/png": "[encoded data removed]",
      "text/plain": [
       "<Figure size 600x250 with 1 Axes>"
      ]
     },
     "metadata": {
      "needs_background": "light"
     },
     "output_type": "display_data"
    }
   ],
   "source": [
    "plt.figure(figsize=(6, 2.5), dpi=100)\n",
    "sns.kdeplot(data=prior_distribution_more, color=\"magenta\", fill=True, label=\"more_than_mean\")\n",
    "sns.kdeplot(data=prior_distribution_less, color=\"lime\", fill=True, label=\"less_than_mean\");"
   ]
  },
  {
   "cell_type": "code",
   "execution_count": 30,
   "id": "308ae47e-e49c-4bfd-8dec-b13e720bbe4c",
   "metadata": {},
   "outputs": [
    {
     "data": {
      "text/plain": [
       "(898.2507524441048, 8699.983300843116, 0, 1)"
      ]
     },
     "execution_count": 30,
     "metadata": {},
     "output_type": "execute_result"
    }
   ],
   "source": [
    "beta_less"
   ]
  },
  {
   "cell_type": "code",
   "execution_count": 31,
   "id": "eedfa6f4-804b-4f6c-b295-f8f6abc0000d",
   "metadata": {},
   "outputs": [
    {
     "data": {
      "text/plain": [
       "(818.6486518261331, 9250.373040109487, 0, 1)"
      ]
     },
     "execution_count": 31,
     "metadata": {},
     "output_type": "execute_result"
    }
   ],
   "source": [
    "beta_more"
   ]
  },
  {
   "cell_type": "code",
   "execution_count": 32,
   "id": "99cac1ea-2f6f-4549-b10f-dc32b40bf3bb",
   "metadata": {},
   "outputs": [],
   "source": [
    "prob = []\n",
    "start = 0\n",
    "end = 1000\n",
    "batch_size = 1000\n",
    "prior_alpha_more = beta_more_alpha\n",
    "prior_beta_more = beta_more_beta\n",
    "prior_alpha_less = beta_less_alpha\n",
    "prior_beta_less = beta_less_beta\n",
    "\n",
    "for i in range(100):\n",
    "    more_churn = more_than_mean.iloc[start:end, 2].sum()\n",
    "    more_not_churn = 1000 - more_churn\n",
    "    less_churn = less_than_mean.iloc[start:end, 2].sum()\n",
    "    less_not_churn = 1000 - less_churn\n",
    "    \n",
    "    posterior_more = stats.beta(prior_alpha_more + more_churn, prior_beta_more + more_not_churn)\n",
    "    posterior_less = stats.beta(prior_alpha_less + less_churn, prior_beta_less + less_not_churn)\n",
    "    more_sample = posterior_more.rvs(1000)\n",
    "    less_sample = posterior_less.rvs(1000)\n",
    "    p = np.mean(less_sample > more_sample)\n",
    "    prob.append(p)\n",
    "    \n",
    "    prior_alpha_more = prior_alpha_more + more_churn\n",
    "    prior_beta_more = prior_beta_more + more_not_churn\n",
    "    prior_alpha_less = prior_alpha_less + less_churn\n",
    "    prior_beta_less = prior_beta_less + less_not_churn\n",
    "    start = start + batch_size\n",
    "    end = end + batch_size"
   ]
  },
  {
   "cell_type": "code",
   "execution_count": 93,
   "id": "ad443ae8-dff6-47f3-8b37-ee2d758151b4",
   "metadata": {
    "tags": []
   },
   "outputs": [
    {
     "data": {
      "image/png": "[encoded data removed]",
      "text/plain": [
       "<Figure size 600x250 with 1 Axes>"
      ]
     },
     "metadata": {
      "needs_background": "light"
     },
     "output_type": "display_data"
    }
   ],
   "source": [
    "plt.figure(figsize=(6, 2.5), dpi=100)\n",
    "sns.kdeplot(data=more_sample, color=\"magenta\", fill=True, label=\"more_than_mean\")\n",
    "sns.kdeplot(data=less_sample, color=\"lime\", fill=True, label=\"less_than_mean\");"
   ]
  },
  {
   "cell_type": "code",
   "execution_count": 47,
   "id": "cd8ca0da-efad-439d-9bc3-d464b31632b6",
   "metadata": {},
   "outputs": [],
   "source": [
    "sample_size = np.arange(0, 100000, step=1000)"
   ]
  },
  {
   "cell_type": "code",
   "execution_count": 121,
   "id": "29e52fc9-eb00-4ea9-b43b-7f74be56c938",
   "metadata": {},
   "outputs": [
    {
     "data": {
      "image/png": "[encoded data removed]",
      "text/plain": [
       "<Figure size 1000x300 with 1 Axes>"
      ]
     },
     "metadata": {
      "needs_background": "light"
     },
     "output_type": "display_data"
    }
   ],
   "source": [
    "plt.figure(figsize=(10, 3), dpi=100)\n",
    "ax = sns.scatterplot(x=sample_size[:30], y=prob[:30], color=\"blue\")\n",
    "sns.lineplot(x=sample_size, y=prob, color=\"red\", linewidth=2.0)\n",
    "ax.set_xlabel(\"Sample Size\")\n",
    "ax.set_ylabel(\"Probability\");"
   ]
  },
  {
   "cell_type": "code",
   "execution_count": 104,
   "id": "f16ec9d3-1c79-4483-938a-cae0c1165358",
   "metadata": {},
   "outputs": [
    {
     "data": {
      "image/png": "[encoded data removed]",
      "text/plain": [
       "<Figure size 840x600 with 4 Axes>"
      ]
     },
     "metadata": {
      "needs_background": "light"
     },
     "output_type": "display_data"
    }
   ],
   "source": [
    "fig, axes = plt.subplots(nrows=2, ncols=2, figsize=(7,5), dpi=120)\n",
    "ax1 = sns.kdeplot(data=prior_distribution_more, color=\"magenta\", fill=True, label=\"more_than_mean\", ax=axes[0,0])\n",
    "sns.kdeplot(data=prior_distribution_less, color=\"lime\", fill=True, label=\"less_than_mean\", ax=axes[0,0])\n",
    "ax2 = sns.kdeplot(data=more_sample, color=\"magenta\", fill=True, label=\"more_than_mean\", ax=axes[0,1])\n",
    "sns.kdeplot(data=less_sample, color=\"lime\", fill=True, label=\"less_than_mean\", ax=axes[0,1])\n",
    "ax3 = sns.kdeplot(data=prior_distribution_more, color=\"blue\", fill=True, label=\"more_than_mean\", ax=axes[1,0])\n",
    "sns.kdeplot(data=more_sample, color=\"green\", fill=True, label=\"less_than_mean\", ax=axes[1,0]);\n",
    "ax4 = sns.kdeplot(data=prior_distribution_less, color=\"blue\", fill=True, label=\"more_than_mean\", ax=axes[1,1])\n",
    "sns.kdeplot(data=less_sample, color=\"green\", fill=True, label=\"less_than_mean\",ax=axes[1,1])\n",
    "plt.tight_layout()"
   ]
  },
  {
   "cell_type": "code",
   "execution_count": null,
   "id": "0d4e4181-7412-4c43-a6f9-3f7730048ebc",
   "metadata": {},
   "outputs": [],
   "source": []
  }
 ],
 "metadata": {
  "kernelspec": {
   "display_name": "Python 3 (ipykernel)",
   "language": "python",
   "name": "python3"
  },
  "language_info": {
   "codemirror_mode": {
    "name": "ipython",
    "version": 3
   },
   "file_extension": ".py",
   "mimetype": "text/x-python",
   "name": "python",
   "nbconvert_exporter": "python",
   "pygments_lexer": "ipython3",
   "version": "3.9.11"
  }
 },
 "nbformat": 4,
 "nbformat_minor": 5
}
