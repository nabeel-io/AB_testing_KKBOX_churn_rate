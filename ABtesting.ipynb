{
 "cells": [
  {
   "cell_type": "markdown",
   "id": "8f6a1f04-c056-488b-b086-0ea90e4e78df",
   "metadata": {},
   "source": [
    "# **A/B testing KKBOX churn rate**"
   ]
  },
  {
   "cell_type": "markdown",
   "id": "7567f20d-b2da-4d55-a694-64c04169fdac",
   "metadata": {},
   "source": [
    "### **About**"
   ]
  },
  {
   "cell_type": "markdown",
   "id": "a9f1bb3e-c289-4309-bfc8-26f67ee91376",
   "metadata": {},
   "source": [
    "*In this project we implement A/B testing techniques using `Frequentist` approach and `Bayesian` approach to test the significance\n",
    "of churn rate mong two group of music listeners*"
   ]
  },
  {
   "cell_type": "code",
   "execution_count": 51,
   "id": "17a6836a-97b2-422b-b04f-a01762993a63",
   "metadata": {},
   "outputs": [],
   "source": [
    "import pandas as pd\n",
    "import numpy as np\n",
    "import matplotlib.pyplot as plt\n",
    "import seaborn as sns\n",
    "sns.reset_defaults()"
   ]
  },
  {
   "cell_type": "markdown",
   "id": "f7e62457-5e6e-4e00-bf4e-2e9af2072a77",
   "metadata": {},
   "source": [
    "### **Data**"
   ]
  },
  {
   "cell_type": "markdown",
   "id": "f8eca73d-8620-49a3-935c-9f9e504ccf58",
   "metadata": {},
   "source": [
    "*We are using dataset donated by `KKBOX`. The company offers subscription based music service. Since the subscription is renewed \n",
    "every month. It is importnt to know if the customer churn after a certain period of time. The data consist of `user_logs` and the \n",
    "customer `churn` rate*"
   ]
  },
  {
   "cell_type": "code",
   "execution_count": 52,
   "id": "7731b14e-e7f7-4433-a2aa-09ab55e43817",
   "metadata": {},
   "outputs": [],
   "source": [
    "logs = pd.read_csv(\"user_logs_v2.csv\", usecols=[\"msno\", \"total_secs\"])"
   ]
  },
  {
   "cell_type": "code",
   "execution_count": 53,
   "id": "42ceced9-39f2-4106-b504-3bd63e684964",
   "metadata": {},
   "outputs": [],
   "source": [
    "churn = pd.read_csv(\"train_v2.csv\")"
   ]
  },
  {
   "cell_type": "markdown",
   "id": "e6d07b4b-ef6d-451f-b7e7-305dc47dfc8a",
   "metadata": {},
   "source": [
    "### **Objective**"
   ]
  },
  {
   "cell_type": "markdown",
   "id": "14585e5b-fa04-4f03-a381-7bae9d375aa4",
   "metadata": {},
   "source": [
    "*Our objective is to test the significance of music listeners who spent `more than mean` time and `less than mean` time on playing \n",
    "the music and test if the two groups of the music listeners is siginificantly `different` from each other in there respective\n",
    "`churn rate`* "
   ]
  },
  {
   "cell_type": "markdown",
   "id": "5ac99618-9c2c-419d-889c-c3ae0c28f85f",
   "metadata": {},
   "source": [
    "### **Data Processing**"
   ]
  },
  {
   "cell_type": "markdown",
   "id": "0cc084e2-8dd8-488b-829a-715ae0fca4aa",
   "metadata": {},
   "source": [
    "*From `user_logs` we will sum all the seconds of every unique customer and get the total seconds its spends on playing the \n",
    "music every month*"
   ]
  },
  {
   "cell_type": "code",
   "execution_count": 54,
   "id": "cfe7de18-4b01-4b46-a021-84c8686fdf70",
   "metadata": {},
   "outputs": [],
   "source": [
    "logs = logs.groupby(\"msno\").sum()"
   ]
  },
  {
   "cell_type": "markdown",
   "id": "d400e957-7345-4bb6-9314-6921ea814807",
   "metadata": {},
   "source": [
    "*We will join the two datasets (log_userv2 and train_v2) to observe of the users churn away based on there listening time*"
   ]
  },
  {
   "cell_type": "code",
   "execution_count": 55,
   "id": "048c8a15-c958-4815-beba-09623e4484b7",
   "metadata": {},
   "outputs": [],
   "source": [
    "df = logs.merge(churn, how=\"inner\", on=\"msno\")"
   ]
  },
  {
   "cell_type": "code",
   "execution_count": 56,
   "id": "71ce7719-dc2f-4dc0-9503-4ad6ea1bb4a0",
   "metadata": {},
   "outputs": [],
   "source": [
    "del churn, logs"
   ]
  },
  {
   "cell_type": "markdown",
   "id": "d2290af5-42d4-4716-8bc7-5dccf699eebe",
   "metadata": {},
   "source": [
    "*Then we convert the total_seconds to `hours`*"
   ]
  },
  {
   "cell_type": "code",
   "execution_count": 57,
   "id": "bd1fd03c-4bf3-4d4f-8abc-ddf3ef5b7432",
   "metadata": {},
   "outputs": [],
   "source": [
    "df[\"total_secs\"] = df[\"total_secs\"]/(60*60)"
   ]
  },
  {
   "cell_type": "markdown",
   "id": "90ba6043-d767-4861-bbb4-005d5c448bbe",
   "metadata": {},
   "source": [
    "*Caluclating the mean time of all users*"
   ]
  },
  {
   "cell_type": "code",
   "execution_count": 58,
   "id": "9ddc2d0c-112e-4ae6-a7c9-650fb9b4e4cc",
   "metadata": {},
   "outputs": [],
   "source": [
    "mean_time = df[\"total_secs\"].mean()"
   ]
  },
  {
   "cell_type": "markdown",
   "id": "9485db25-876b-4acd-a00b-9753cda8a274",
   "metadata": {},
   "source": [
    "*Seprating users based on `more_than_mean` and `less_than_mean` value*"
   ]
  },
  {
   "cell_type": "code",
   "execution_count": 59,
   "id": "596e93c8-825e-4380-b22b-9a1eaa7798d5",
   "metadata": {},
   "outputs": [],
   "source": [
    "df[\"mean_time\"] = df[\"total_secs\"] > mean_time"
   ]
  },
  {
   "cell_type": "code",
   "execution_count": 60,
   "id": "ce0a7e4e-ba28-4731-85d0-fc6500bbfcf5",
   "metadata": {},
   "outputs": [],
   "source": [
    "more_than_mean = df[df[\"mean_time\"] == True].sample(100000)"
   ]
  },
  {
   "cell_type": "code",
   "execution_count": 61,
   "id": "cced2934-5a17-41ef-a72b-cad09fe40a35",
   "metadata": {},
   "outputs": [],
   "source": [
    "less_than_mean = df[df[\"mean_time\"] == False].sample(100000)"
   ]
  },
  {
   "cell_type": "markdown",
   "id": "9e74cfda-2ee0-459b-bb96-b4f8b60c6485",
   "metadata": {},
   "source": [
    "### **Frequentist Approach** "
   ]
  },
  {
   "cell_type": "markdown",
   "id": "51ea11fa-189a-4d30-98ec-7a45f26f68a1",
   "metadata": {},
   "source": [
    "*In the frequentist approach we establish the significance of data based on given model and verify the result using the probability \n",
    "assosiated with the difference in the means of two groups. In this method first we calulate the sample size for our test*"
   ]
  },
  {
   "cell_type": "markdown",
   "id": "fd02b686-dae7-4361-a21e-cf67481b50ea",
   "metadata": {},
   "source": [
    "### **Sample Size**"
   ]
  },
  {
   "cell_type": "code",
   "execution_count": 62,
   "id": "c8437ea4-0ff2-41b6-b37c-b2d40753a6b0",
   "metadata": {},
   "outputs": [],
   "source": [
    "pop = []\n",
    "p1 = []\n",
    "for i in range(1,2000):\n",
    "    postives = float(more_than_mean[\"is_churn\"].sample(i*50).sum())\n",
    "    p1.append(postives/(i*50))\n",
    "    pop.append(i*50)"
   ]
  },
  {
   "cell_type": "code",
   "execution_count": 63,
   "id": "84eddf0d-0f0e-45b6-a4e1-d6ba83bbf727",
   "metadata": {},
   "outputs": [],
   "source": [
    "p2 = []\n",
    "for i in range(1,2000):\n",
    "    postives = float(less_than_mean[\"is_churn\"].sample(i*50).sum())\n",
    "    p2.append(postives/(i*50))"
   ]
  },
  {
   "cell_type": "code",
   "execution_count": 64,
   "id": "f5f3943c-1834-4c5d-8c3c-74e0b3fe476a",
   "metadata": {},
   "outputs": [
    {
     "data": {
      "image/png": "[encoded data removed]",
      "text/plain": [
       "<Figure size 768x576 with 1 Axes>"
      ]
     },
     "metadata": {},
     "output_type": "display_data"
    }
   ],
   "source": [
    "plt.figure(dpi=120)\n",
    "plt.scatter(x=pop, y=p1, s=0.8, color=\"red\")\n",
    "plt.scatter(x=pop, y=p2, s=0.8, color=\"black\")\n",
    "plt.xlabel(\"Sample Size\")\n",
    "plt.ylim(0.06, 0.12);"
   ]
  },
  {
   "cell_type": "markdown",
   "id": "8263b01d-3c71-451a-9ea0-d5411035da6d",
   "metadata": {},
   "source": [
    "We calculate the sample size using the margin of error concept. We calculated the margin of error using the formulae\n",
    "\n",
    "$$MOE=\\ z\\times \\sqrt\\frac{p(1-p)}{n}$$<br>\n",
    "$z$ =  *for 95% confidence*<br>\n",
    "$MOE$ = *margin of error*<br>\n",
    "$p$ = *observed proportion* (if not given assume to be 0.5)<br>\n",
    "$n$ = *Sample Size*<br>"
   ]
  },
  {
   "cell_type": "code",
   "execution_count": 65,
   "id": "1a7b1972-2123-4ae2-887b-cb7cf3858380",
   "metadata": {},
   "outputs": [],
   "source": [
    "def sample_size(z, p, error):\n",
    "    n = (z**2) * ((p*(1-p))/(error**2))\n",
    "    return np.ceil(n)"
   ]
  },
  {
   "cell_type": "code",
   "execution_count": 66,
   "id": "50d52942-64a7-41c9-9dc4-c6815d202380",
   "metadata": {},
   "outputs": [
    {
     "data": {
      "text/plain": [
       "38416.0"
      ]
     },
     "execution_count": 66,
     "metadata": {},
     "output_type": "execute_result"
    }
   ],
   "source": [
    "# for margen of error = 0.005%\n",
    "# z = 1.96\n",
    "# p is unknown (0.5)\n",
    "sample_size(1.96, 0.5, 0.005)"
   ]
  },
  {
   "cell_type": "markdown",
   "id": "6547ed18-5e67-472f-9733-9da10fa8efa4",
   "metadata": {},
   "source": [
    "*We choose the sample size of 100000 for both groups*"
   ]
  },
  {
   "cell_type": "markdown",
   "id": "70b9366c-48ba-4e6b-8d0d-3b5b7de348cf",
   "metadata": {},
   "source": [
    "### **Formulate the Hypothesis**"
   ]
  },
  {
   "cell_type": "markdown",
   "id": "56a30e2e-a0fc-44cc-ab27-0b87f6726129",
   "metadata": {},
   "source": [
    "***p1** = proportion of listners who plays less_then_mean*<br>\n",
    "***p2** = proportion of listners who plays more_then_mean*<br>\n",
    "\n",
    "*$H_0$ : the churn rate for listeners who plays more than mean is not different than the listeners who plays less than the \n",
    "mean_time*<br> \n",
    "*(p1-p2 = 0)*<br>\n",
    "*$H_A$ : the churn rate for listeners who plays more than mean is different than the listeners who plays less than the \n",
    "mean_time*<br>\n",
    "*(p1-p2 != 0)*"
   ]
  },
  {
   "cell_type": "code",
   "execution_count": 67,
   "id": "795883fd-6eff-4eaf-9079-d1d99bd23325",
   "metadata": {},
   "outputs": [],
   "source": [
    "# proportions\n",
    "def prop(freq):\n",
    "    churn = freq.sum()\n",
    "    total = len(freq)\n",
    "    return churn/total"
   ]
  },
  {
   "cell_type": "code",
   "execution_count": 68,
   "id": "aee108c1-b3ea-4719-89e7-7ec1bb213bbf",
   "metadata": {},
   "outputs": [],
   "source": [
    "p1 = prop(less_than_mean[\"is_churn\"])\n",
    "p2 = prop(more_than_mean[\"is_churn\"])"
   ]
  },
  {
   "cell_type": "code",
   "execution_count": 69,
   "id": "0fc41639-5f15-4425-9b11-2fa456ce8780",
   "metadata": {},
   "outputs": [
    {
     "name": "stdout",
     "output_type": "stream",
     "text": [
      "0.012209999999999999\n"
     ]
    }
   ],
   "source": [
    "p1p2 = p1 - p2\n",
    "print(p1p2)"
   ]
  },
  {
   "cell_type": "markdown",
   "id": "3dcf0fdf-04e7-45d4-85d6-fabbe7e5a93f",
   "metadata": {},
   "source": [
    "### **Test Normality assumption**"
   ]
  },
  {
   "cell_type": "markdown",
   "id": "6902b597-ebd3-4c3a-8867-f517ca6d5d34",
   "metadata": {},
   "source": [
    "*Before testing the hypothesis we have to make sure tht distribution of p1-p2 follows normal distribution. In order to test it \n",
    "we to prove two assumptions to be true*\n",
    "\n",
    "1. *Independence within and between the group*\n",
    "2. *Test the success-failure condition*"
   ]
  },
  {
   "cell_type": "markdown",
   "id": "d7a008af-1b3e-43d3-9de5-94a4e16b7484",
   "metadata": {},
   "source": [
    "*Since we are testing p1-p2=0 we need to calculate pooled proportions using formulae*\n",
    "\n",
    "$$p_{pooled} = \\frac{(n_1p_1 + n_2p_2)}{n_1 + n_2}$$"
   ]
  },
  {
   "cell_type": "code",
   "execution_count": 70,
   "id": "3fba8ccc-2a05-4e55-843f-a03d02e56dcb",
   "metadata": {},
   "outputs": [],
   "source": [
    "def pooled_prop(s1, s2):\n",
    "    pool =  (s1.sum() + s2.sum())/(len(s1) + len(s2))\n",
    "    return pool"
   ]
  },
  {
   "cell_type": "code",
   "execution_count": 71,
   "id": "4d032e6a-8452-4492-8b4b-c31c0de476b2",
   "metadata": {},
   "outputs": [
    {
     "name": "stdout",
     "output_type": "stream",
     "text": [
      "0.087815\n"
     ]
    }
   ],
   "source": [
    "ppool = pooled_prop(less_than_mean[\"is_churn\"], more_than_mean[\"is_churn\"])\n",
    "print(ppool)"
   ]
  },
  {
   "cell_type": "markdown",
   "id": "3fffd75b-f2b0-437f-a006-b4006aea2541",
   "metadata": {},
   "source": [
    "*For **Success -Failure condition** to be true*\n",
    "\n",
    "$n_1p_{pooled} > 10$<br>\n",
    "$n_1(1-p_{pooled}) > 10$<br>\n",
    "$n_2p_{pooled} > 10$<br>\n",
    "$n_2(1-p_{pooled)} > 10$<br>"
   ]
  },
  {
   "cell_type": "code",
   "execution_count": 72,
   "id": "b5012649-f964-49f8-8845-e51c116c5881",
   "metadata": {},
   "outputs": [],
   "source": [
    "def sfcondition(p, s1, s2):\n",
    "    a = []\n",
    "    a.append(p * len(s1))\n",
    "    a.append(p * len(s2))\n",
    "    a.append((1-p) * len(s1))\n",
    "    a.append((1-p) * len(s1))\n",
    "    a = np.array(a) > 10 \n",
    "    return np.all(a)"
   ]
  },
  {
   "cell_type": "code",
   "execution_count": 73,
   "id": "6f0c5f9b-6c05-4813-a4c2-0a920cc8e035",
   "metadata": {},
   "outputs": [
    {
     "data": {
      "text/plain": [
       "True"
      ]
     },
     "execution_count": 73,
     "metadata": {},
     "output_type": "execute_result"
    }
   ],
   "source": [
    "sfcondition(ppool, less_than_mean[\"is_churn\"], more_than_mean[\"is_churn\"])"
   ]
  },
  {
   "cell_type": "markdown",
   "id": "f7eb15cb-405a-46c7-acad-41104a230a01",
   "metadata": {},
   "source": [
    "### **Calculate the test static z**"
   ]
  },
  {
   "cell_type": "markdown",
   "id": "a259d4b8-f37e-4c54-b616-d17d748368a1",
   "metadata": {},
   "source": [
    "*Standard Error pooled*\n",
    "$$SE_{pooled} = \\sqrt\\frac{p_{pooled}(1-p_{pooled})}{n_1} + \\frac{p_{pooled}(1-p_{pooled})}{n_2}$$"
   ]
  },
  {
   "cell_type": "code",
   "execution_count": 74,
   "id": "a662af71-9a00-458b-9c2c-6afa4a03b2e6",
   "metadata": {},
   "outputs": [],
   "source": [
    "def se_pooled(p, s1, s2):\n",
    "    x1 = (p*(1-p))/(len(s1))\n",
    "    x2 = (p*(1-p))/(len(s2))\n",
    "    se = np.sqrt(x1 + x2)\n",
    "    return se"
   ]
  },
  {
   "cell_type": "code",
   "execution_count": 75,
   "id": "8e7c7f04-83e3-4b8f-97d7-8365cf046a68",
   "metadata": {},
   "outputs": [
    {
     "name": "stdout",
     "output_type": "stream",
     "text": [
      "0.0012657292425712538\n"
     ]
    }
   ],
   "source": [
    "sepool = se_pooled(ppool, less_than_mean[\"is_churn\"], more_than_mean[\"is_churn\"])\n",
    "print(sepool)"
   ]
  },
  {
   "cell_type": "code",
   "execution_count": 76,
   "id": "e0001058-0a0a-4007-bc51-2521b0092f34",
   "metadata": {},
   "outputs": [],
   "source": [
    "def z_static(x, p, se):\n",
    "    z = (x - p) / se\n",
    "    return z"
   ]
  },
  {
   "cell_type": "code",
   "execution_count": 77,
   "id": "9f8e4bbf-ddb6-42ee-9582-2cbef1b442cf",
   "metadata": {},
   "outputs": [
    {
     "name": "stdout",
     "output_type": "stream",
     "text": [
      "9.646612868954586\n"
     ]
    }
   ],
   "source": [
    "z_value = z_static(p1p2, 0, sepool)\n",
    "print(z_value)"
   ]
  },
  {
   "cell_type": "markdown",
   "id": "45fb0895-64d1-4cbf-b1b5-1c8a82459c08",
   "metadata": {},
   "source": [
    "### **Calculate two tailed probability**"
   ]
  },
  {
   "cell_type": "code",
   "execution_count": 78,
   "id": "d976bdfa-2cb9-440d-99bc-687bf22fd4d2",
   "metadata": {},
   "outputs": [],
   "source": [
    "from scipy import stats"
   ]
  },
  {
   "cell_type": "code",
   "execution_count": 79,
   "id": "f5613f10-8004-428e-b346-436fca0131b5",
   "metadata": {},
   "outputs": [
    {
     "name": "stdout",
     "output_type": "stream",
     "text": [
      "5.080614878532172e-22\n"
     ]
    }
   ],
   "source": [
    "p_value = stats.norm.sf(z_value) \n",
    "print(2 *p_value)"
   ]
  },
  {
   "cell_type": "markdown",
   "id": "4d61a778-e5b1-4da8-bd52-9e58a1945a65",
   "metadata": {},
   "source": [
    "### **Test the value against $\\alpha$ level of significance**"
   ]
  },
  {
   "cell_type": "code",
   "execution_count": 80,
   "id": "ebb61113-e415-4e43-8ddc-bafdfc563be9",
   "metadata": {},
   "outputs": [
    {
     "data": {
      "text/plain": [
       "False"
      ]
     },
     "execution_count": 80,
     "metadata": {},
     "output_type": "execute_result"
    }
   ],
   "source": [
    "# two tailed test\n",
    "2 * p_value  > 0.05"
   ]
  },
  {
   "cell_type": "markdown",
   "id": "fb8ca669-4e07-4fc9-9a37-a39b0ade7f01",
   "metadata": {},
   "source": [
    "*Therefore we reject the Null Hypothesis and accept the Alternted Hypothesis, there is significant difference \n",
    "between the churn rate of listeners who  play more than mean and less than mean hours*"
   ]
  },
  {
   "cell_type": "markdown",
   "id": "d9fa6187-d78e-4d7f-a48e-5fb99514be76",
   "metadata": {},
   "source": [
    "### **Permutation Test Method**"
   ]
  },
  {
   "cell_type": "markdown",
   "id": "1d274779-a477-4902-a101-8ef19e2955f5",
   "metadata": {},
   "source": [
    "*In permutation approach there is no need to test the assumption of normality because we generate the null distribution using\n",
    "random shuffling of the samples*\n",
    "\n",
    "*Null distribution is generated using shuffling the bag of samples and drawing the samples from group A and group B without replacement and record the test static for each permutation. We repeat the process to get a smooth Null Hypothesis distribution*"
   ]
  },
  {
   "cell_type": "code",
   "execution_count": 81,
   "id": "06bf910b-d2ef-458b-92ba-efb5d2e82770",
   "metadata": {},
   "outputs": [],
   "source": [
    "bag = pd.concat([more_than_mean[\"is_churn\"], less_than_mean[\"is_churn\"]])"
   ]
  },
  {
   "cell_type": "code",
   "execution_count": 82,
   "id": "9c86a941-9802-4f1d-9f16-b692cd76f3e2",
   "metadata": {},
   "outputs": [],
   "source": [
    "p1p2_random =  []\n",
    "n_perm = 100000\n",
    "for i in range(1000):\n",
    "    x = bag.sample(frac=1)\n",
    "    a = x[:100000].sum()\n",
    "    b = x[100000:].sum()\n",
    "    p1 = a/100000\n",
    "    p2 = b/100000\n",
    "    diff = p1 - p2\n",
    "    p1p2_random.append(diff)"
   ]
  },
  {
   "cell_type": "code",
   "execution_count": 83,
   "id": "c85ff707-8b4b-4953-9eef-dbc7849e0747",
   "metadata": {},
   "outputs": [
    {
     "data": {
      "image/png": "[encoded data removed]",
      "text/plain": [
       "<Figure size 640x480 with 1 Axes>"
      ]
     },
     "metadata": {},
     "output_type": "display_data"
    }
   ],
   "source": [
    "sns.kdeplot(data=p1p2_random, color=\"red\", fill=True)\n",
    "plt.axvline(p1p2,color=\"black\")\n",
    "plt.axvline((-1*p1p2),color=\"black\");"
   ]
  },
  {
   "cell_type": "markdown",
   "id": "dea27915-6f24-4add-80f6-814775992ef2",
   "metadata": {},
   "source": [
    "*We test the hypothesis by adding all p values which are greater than or equal to p1-p2, i.e. values that are as or more extreme\n",
    "than the observe value*"
   ]
  },
  {
   "cell_type": "code",
   "execution_count": 84,
   "id": "d6b99f55-ca02-48d7-92fd-7ff05d05b965",
   "metadata": {},
   "outputs": [
    {
     "name": "stdout",
     "output_type": "stream",
     "text": [
      "0.003610000000000002\n",
      "-0.003949999999999995\n",
      "0.012209999999999999\n"
     ]
    }
   ],
   "source": [
    "print(max(p1p2_random))\n",
    "print(min(p1p2_random))\n",
    "print(p1p2)"
   ]
  },
  {
   "cell_type": "markdown",
   "id": "5ebbfc76-dda0-48fd-a0c7-5f75a4f8102a",
   "metadata": {},
   "source": [
    "*We test this p value against the significance level and decide wether to retain or reject the Null hypothesis*"
   ]
  },
  {
   "cell_type": "markdown",
   "id": "04bf2ac0-b37c-4002-b8c2-3564cf6d1aa6",
   "metadata": {},
   "source": [
    "*since the value are know close to the p1p2 threshold we assume probability to be approximately 0* "
   ]
  },
  {
   "cell_type": "code",
   "execution_count": 85,
   "id": "6d070b04-0bfa-40d4-b8bc-7a71abfa8bc4",
   "metadata": {},
   "outputs": [
    {
     "data": {
      "text/plain": [
       "False"
      ]
     },
     "execution_count": 85,
     "metadata": {},
     "output_type": "execute_result"
    }
   ],
   "source": [
    "0.0 > 0.05"
   ]
  },
  {
   "cell_type": "markdown",
   "id": "8030c402-22e1-4ddd-abfa-caca4e9b181a",
   "metadata": {},
   "source": [
    "*Therefore we reject the Null Hypothesis and accept the Alternted Hypothesis, there is significant difference \n",
    "between the churn rate of listeners who  play more than mean and less than mean hours*"
   ]
  },
  {
   "cell_type": "markdown",
   "id": "077eca76-3912-4dd7-88a7-9bfcb1ce301f",
   "metadata": {},
   "source": [
    "### **Bayesian Approach**"
   ]
  },
  {
   "cell_type": "markdown",
   "id": "77a3373f-bbb5-4888-9798-7ddfbdb3e344",
   "metadata": {},
   "source": [
    "*In Bayesian method we take into account the uncertainity assosiated with the model. In Bayesian approach we calculate the model\n",
    "based on the given data which incorporate uncertainity within model for each piece of additional information.*\n",
    "\n",
    "*For the sake of performing bayesian AB testing we will seprate 100000 samples from each group of more_than_mean and \n",
    "less_thn_mean and pretend this data to have not been seen before*"
   ]
  },
  {
   "cell_type": "markdown",
   "id": "99686cde-b925-462c-b709-cf3d2dbe6c8c",
   "metadata": {},
   "source": [
    "### **Calculating Prior** "
   ]
  },
  {
   "cell_type": "markdown",
   "id": "50320681-9743-42f3-ae97-fe2019907904",
   "metadata": {},
   "source": [
    "*Genrating prior distribution for each group*"
   ]
  },
  {
   "cell_type": "code",
   "execution_count": 116,
   "id": "062ea83f-5746-4100-906e-18ec59875c37",
   "metadata": {},
   "outputs": [],
   "source": [
    "prior = df[~((df[\"msno\"].isin(more_than_mean)) | (df[\"msno\"].isin(less_than_mean)))]"
   ]
  },
  {
   "cell_type": "code",
   "execution_count": 117,
   "id": "9b5bda2c-542f-4e0b-80df-4a2b1deacdcf",
   "metadata": {},
   "outputs": [],
   "source": [
    "prior_more = []\n",
    "for i in range(1000):\n",
    "    mean = prior[prior[\"mean_time\"] == True][\"is_churn\"].sample(1000).mean()\n",
    "    prior_more.append(mean)"
   ]
  },
  {
   "cell_type": "code",
   "execution_count": 118,
   "id": "1634b45f-8fca-4f40-8375-3afb9e03d670",
   "metadata": {},
   "outputs": [],
   "source": [
    "prior_less = []\n",
    "for i in range(1000):\n",
    "    mean = prior[prior[\"mean_time\"] == False][\"is_churn\"].sample(1000).mean()\n",
    "    prior_less.append(mean)"
   ]
  },
  {
   "cell_type": "code",
   "execution_count": 119,
   "id": "fc129b86-9890-4f33-bf93-cafe06873795",
   "metadata": {},
   "outputs": [
    {
     "data": {
      "image/png": "[encoded data removed]",
      "text/plain": [
       "<Figure size 640x480 with 1 Axes>"
      ]
     },
     "metadata": {},
     "output_type": "display_data"
    }
   ],
   "source": [
    "sns.kdeplot(data=prior_more, color=\"black\" ,fill=True, label=\"more_than_mean\")\n",
    "sns.kdeplot(data=prior_less, color=\"red\", fill=True, label=\"less_than_mean\");"
   ]
  },
  {
   "cell_type": "markdown",
   "id": "251d7180-69c1-4bd2-a8de-cfd29ac8ac7c",
   "metadata": {},
   "source": [
    "*Now first we calculate prior distribution by fitting data from prior and using beta distribution to calculate alpha and \n",
    "beta value for both the groups*"
   ]
  },
  {
   "cell_type": "code",
   "execution_count": 120,
   "id": "77bd02c3-87e4-41c0-ae8d-d785bb5ee7aa",
   "metadata": {},
   "outputs": [],
   "source": [
    "# fit the beta distribution \n",
    "from scipy import stats"
   ]
  },
  {
   "cell_type": "code",
   "execution_count": 121,
   "id": "3bd5fddd-2608-4309-be73-7049fa1375c7",
   "metadata": {},
   "outputs": [],
   "source": [
    "beta_more = stats.beta.fit(prior_more, floc=0, fscale=1)\n",
    "beta_more_alpha = beta_more[0]\n",
    "beta_more_beta = beta_more[1]"
   ]
  },
  {
   "cell_type": "code",
   "execution_count": 122,
   "id": "0198cdaa-4bdd-4569-8e92-0a544dea7baf",
   "metadata": {},
   "outputs": [],
   "source": [
    "beta_less = stats.beta.fit(prior_less, floc=0, fscale=1)\n",
    "beta_less_alpha = beta_less[0]\n",
    "beta_less_beta = beta_more[1]"
   ]
  },
  {
   "cell_type": "markdown",
   "id": "df4ebd5a-4637-4a9d-9c5b-7ac07e3088eb",
   "metadata": {},
   "source": [
    "*From the distribution of both groups we can observe both have high uncertainity*"
   ]
  },
  {
   "cell_type": "code",
   "execution_count": 123,
   "id": "6172d1c4-075f-47af-899a-ab2d8a16bd84",
   "metadata": {},
   "outputs": [],
   "source": [
    "prior_distribution_more = stats.beta(beta_more_alpha, beta_more_beta).rvs(1000)\n",
    "prior_distribution_less = stats.beta(beta_less_alpha, beta_less_beta).rvs(1000)"
   ]
  },
  {
   "cell_type": "code",
   "execution_count": 124,
   "id": "a44e1aa8-9075-46e0-8fc3-aab4693008ea",
   "metadata": {},
   "outputs": [
    {
     "data": {
      "image/png": "[encoded data removed]",
      "text/plain": [
       "<Figure size 640x480 with 1 Axes>"
      ]
     },
     "metadata": {},
     "output_type": "display_data"
    }
   ],
   "source": [
    "sns.kdeplot(data=prior_distribution_more, color=\"black\", fill=True, label=\"more_than_mean\")\n",
    "sns.kdeplot(data=prior_distribution_less, color=\"red\", fill=True, label=\"less_than_mean\");"
   ]
  },
  {
   "cell_type": "markdown",
   "id": "98f7f74a-75d3-456d-abdd-8fe87e4dc281",
   "metadata": {},
   "source": [
    "*Now we will introduce new users churn information into the beta distributions to see how parametersand posterior are updated\n",
    "and how two startegies perform in comparison to each other in long term (100 step with data of 1000 new users in each step)*"
   ]
  },
  {
   "cell_type": "code",
   "execution_count": 125,
   "id": "b543a842-f2c6-4240-9943-83218a366c03",
   "metadata": {},
   "outputs": [],
   "source": [
    "prob = []\n",
    "start = 0\n",
    "end = 1000\n",
    "batch_size = 1000\n",
    "prior_alpha_more = beta_more_alpha\n",
    "prior_beta_more = beta_more_beta\n",
    "prior_alpha_less = beta_less_alpha\n",
    "prior_beta_less = beta_less_beta\n",
    "\n",
    "for i in range(100):\n",
    "    more_churn = more_than_mean.iloc[start:end, 2].sum()\n",
    "    more_not_churn = 1000 - more_churn\n",
    "    less_churn = less_than_mean.iloc[start:end, 2].sum()\n",
    "    less_not_churn = 1000 - less_churn\n",
    "    \n",
    "    posterior_more = stats.beta(prior_alpha_more + more_churn, prior_beta_more + more_not_churn)\n",
    "    posterior_less = stats.beta(prior_alpha_less + less_churn, prior_beta_less + less_not_churn)\n",
    "    more_sample = posterior_more.rvs(1000)\n",
    "    less_sample = posterior_less.rvs(1000)\n",
    "    p = np.mean(less_sample > more_sample)\n",
    "    prob.append(p)\n",
    "    \n",
    "    prior_alpha_more = prior_alpha_more + more_churn\n",
    "    prior_beta_more = prior_beta_more + more_not_churn\n",
    "    prior_alpha_less = prior_alpha_less + less_churn\n",
    "    prior_beta_less = prior_beta_less + less_not_churn\n",
    "    start = start + batch_size\n",
    "    end = end + batch_size"
   ]
  },
  {
   "cell_type": "code",
   "execution_count": 126,
   "id": "62fa4a4c-7003-430f-a821-34795e154233",
   "metadata": {
    "tags": []
   },
   "outputs": [
    {
     "data": {
      "image/png": "[encoded data removed]",
      "text/plain": [
       "<Figure size 640x480 with 1 Axes>"
      ]
     },
     "metadata": {},
     "output_type": "display_data"
    }
   ],
   "source": [
    "sns.kdeplot(data=more_sample, color=\"black\", fill=True, label=\"more_than_mean\")\n",
    "sns.kdeplot(data=less_sample, color=\"red\", fill=True, label=\"less_than_mean\");"
   ]
  },
  {
   "cell_type": "markdown",
   "id": "7c4b6c43-d2a5-4f52-b5c0-2a83acd9db99",
   "metadata": {},
   "source": [
    "*After 100 rounds of observation we can clearly see that strategy of more_than_mean work less_than_mean  99.99% of time*"
   ]
  },
  {
   "cell_type": "code",
   "execution_count": 127,
   "id": "1fba2a94-3f1d-4965-a6c8-d81e4c94473c",
   "metadata": {},
   "outputs": [],
   "source": [
    "sample_size = np.arange(0, 100000, step=1000)"
   ]
  },
  {
   "cell_type": "code",
   "execution_count": 128,
   "id": "226120c7-0456-4de1-953e-550bea5e69e2",
   "metadata": {},
   "outputs": [
    {
     "data": {
      "image/png": "[encoded data removed]",
      "text/plain": [
       "<Figure size 640x480 with 1 Axes>"
      ]
     },
     "metadata": {},
     "output_type": "display_data"
    }
   ],
   "source": [
    "ax = sns.scatterplot(x=sample_size[:20], y=prob[:20], color=\"black\")\n",
    "sns.lineplot(x=sample_size, y=prob, color=\"red\", linewidth=2.0)\n",
    "ax.set_xlabel(\"Sample Size\")\n",
    "ax.set_ylabel(\"Probability\");"
   ]
  },
  {
   "cell_type": "code",
   "execution_count": null,
   "id": "397031e2-444b-4983-8c59-b23213f44f4e",
   "metadata": {},
   "outputs": [],
   "source": []
  }
 ],
 "metadata": {
  "kernelspec": {
   "display_name": "Python 3 (ipykernel)",
   "language": "python",
   "name": "python3"
  },
  "language_info": {
   "codemirror_mode": {
    "name": "ipython",
    "version": 3
   },
   "file_extension": ".py",
   "mimetype": "text/x-python",
   "name": "python",
   "nbconvert_exporter": "python",
   "pygments_lexer": "ipython3",
   "version": "3.9.11"
  }
 },
 "nbformat": 4,
 "nbformat_minor": 5
}
